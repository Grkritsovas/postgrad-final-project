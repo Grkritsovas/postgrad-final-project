{
 "cells": [
  {
   "cell_type": "markdown",
   "id": "8fe03d97-79ed-4098-96f3-2bd0e4428f8f",
   "metadata": {},
   "source": [
    "### Create a unified dataset that has song id, artist name, track name, V-A mean and std columns"
   ]
  },
  {
   "cell_type": "code",
   "execution_count": 2,
   "id": "fb8e799c-ed8b-4485-89e9-cb0b62a4aa86",
   "metadata": {},
   "outputs": [],
   "source": [
    "import sys\n",
    "import os\n",
    "import pandas as pd\n",
    "from pathlib import Path\n",
    "\n",
    "sys.path.append('..')\n",
    "\n",
    "# import toolkits from src\n",
    "from src.deam_loader import create_deam_base_dataset\n",
    "from src.lyric_utils import LyricsFetcher\n",
    "\n",
    "from pathlib import Path\n",
    "\n",
    "ANNOTATIONS_PATH = Path(\"../data/raw/DEAM_Annotations/annotations/annotations averaged per song/song_level/static_annotations_averaged_songs_1_2000.csv\")\n",
    "METADATA_DIR = Path(\"../data/raw/metadata_DEAM/metadata\")\n",
    "TOKEN_FILE = Path(\"../secrets.txt\")\n",
    "CACHE_FILE = Path(\"../data/processed/DEAM/lyrics_cache.json\")\n",
    "OUTPUT_FILE = Path(\"../data/processed/deam_core_with_lyrics.parquet\")"
   ]
  },
  {
   "cell_type": "code",
   "execution_count": 3,
   "id": "61ea109c-7f63-4f0e-8bf7-2abfda793307",
   "metadata": {},
   "outputs": [
    {
     "name": "stdout",
     "output_type": "stream",
     "text": [
      "Step 1: Creating base dataset \n",
      "Loaded 58 test songs\n",
      "Created dataset with 1802 songs\n",
      "  Train/val (≤2000): 1744\n",
      "  Test (>2000): 58\n"
     ]
    }
   ],
   "source": [
    "# Create the base dataset without lyrics\n",
    "print(\"Step 1: Creating base dataset \")\n",
    "base_df = create_deam_base_dataset(\n",
    "    annotations_path=ANNOTATIONS_PATH,\n",
    "    metadata_dir=METADATA_DIR\n",
    ")"
   ]
  },
  {
   "cell_type": "markdown",
   "id": "da5afec7-6cc8-4c6d-9cbb-0bd0bf0fcccb",
   "metadata": {},
   "source": [
    "### Add lyrics"
   ]
  },
  {
   "cell_type": "code",
   "execution_count": 4,
   "id": "5eb2b90a-c5b7-474f-8b85-64b6a32aab4b",
   "metadata": {},
   "outputs": [
    {
     "name": "stderr",
     "output_type": "stream",
     "text": [
      "2025-08-22 07:33:35,398 - INFO - LyricsFetcher initialized with fuzzy matching threshold of 85.\n",
      "2025-08-22 07:33:35,400 - INFO - Found 1802 songs needing lyrics.\n"
     ]
    },
    {
     "name": "stdout",
     "output_type": "stream",
     "text": [
      "\n",
      "Step 2: Enriching with lyrics\n"
     ]
    },
    {
     "data": {
      "application/vnd.jupyter.widget-view+json": {
       "model_id": "e6f7f1babc994cecab57cbd0851de413",
       "version_major": 2,
       "version_minor": 0
      },
      "text/plain": [
       "Fetching Lyrics:   0%|          | 0/1802 [00:00<?, ?it/s]"
      ]
     },
     "metadata": {},
     "output_type": "display_data"
    },
    {
     "name": "stderr",
     "output_type": "stream",
     "text": [
      "/home/georgios/miniconda3/envs/tf-gpu/lib/python3.11/site-packages/lyricsgenius/genius.py:468: FutureWarning: The constructor signature will change in a future version. It will change to Song(lyrics, body) instead of Song(client, json_dict, lyrics).\n",
      "  song = Song(self, song_info, lyrics)\n",
      "2025-08-22 07:39:54,480 - INFO - Cache saved after processing 50 new songs.\n",
      "2025-08-22 07:43:09,164 - INFO - Lyrics fetching complete. Final cache saved.\n",
      "2025-08-22 07:43:09,165 - INFO - Found lyrics for 241 out of 1802 songs.\n"
     ]
    }
   ],
   "source": [
    "# Initialize the lyrics fetcher and enrich the base dataset\n",
    "print(\"\\nStep 2: Enriching with lyrics\")\n",
    "token = TOKEN_FILE.read_text().strip()\n",
    "fetcher = LyricsFetcher(genius_api_token=token, cache_path=CACHE_FILE)\n",
    "final_df = fetcher.enrich_dataframe(base_df, batch_save_size=50)"
   ]
  },
  {
   "cell_type": "code",
   "execution_count": 5,
   "id": "2175b6ec-5b6b-471d-91b8-a791ac2cf30c",
   "metadata": {},
   "outputs": [
    {
     "name": "stdout",
     "output_type": "stream",
     "text": [
      "\n",
      "--- Step 3: Saving final dataset ---\n",
      "Successfully saved final dataset to ../data/processed/deam_core_with_lyrics.parquet\n"
     ]
    }
   ],
   "source": [
    "# Save the final, complete dataset\n",
    "print(\"\\n--- Step 3: Saving final dataset ---\")\n",
    "OUTPUT_FILE.parent.mkdir(parents=True, exist_ok=True) # Ensure directory exists\n",
    "final_df.to_parquet(OUTPUT_FILE, index=False)\n",
    "print(f\"Successfully saved final dataset to {OUTPUT_FILE}\")"
   ]
  },
  {
   "cell_type": "markdown",
   "id": "f1df3e06-df52-4156-b74e-fd5425dc8208",
   "metadata": {},
   "source": [
    "#### Lyrics fetched with the Genius API via the lyricsgenius library\n",
    "#### Each (artist, track) was normalized (lowercasing, removing punctuation, trimming \"feat.\" and parentheses)\n",
    "#### Multiple name variants were tried for robust matching (e.g. \"and\" vs &, shortened artist names)\n",
    "#### Fuzzy string matching (rapidfuzz) was used when exact matches were not reliable (Threshold = 85)\n",
    "#### two-pass search strategy: first with artist and title, then title only with post-validation\n",
    "#### Retrieved lyrics were cleaned: removed ads, \"embed\", contributor info, or section headers. Short/empty results were discarded\n",
    "#### Cache file (lyrics_cache.json) ensured songs were not refetched and progress could resume if interrupted and avoid repeated API calls"
   ]
  },
  {
   "cell_type": "code",
   "execution_count": 6,
   "id": "73192661-4a0c-488c-97d4-33cbb7be1f50",
   "metadata": {},
   "outputs": [
    {
     "name": "stdout",
     "output_type": "stream",
     "text": [
      "\n",
      "Final DataFrame Info:\n",
      "<class 'pandas.core.frame.DataFrame'>\n",
      "RangeIndex: 1802 entries, 0 to 1801\n",
      "Data columns (total 8 columns):\n",
      " #   Column        Non-Null Count  Dtype  \n",
      "---  ------        --------------  -----  \n",
      " 0   song_id       1802 non-null   int64  \n",
      " 1   track_name    1802 non-null   object \n",
      " 2   artist_name   1802 non-null   object \n",
      " 3   valence_mean  1744 non-null   float64\n",
      " 4   arousal_mean  1744 non-null   float64\n",
      " 5   valence_std   1744 non-null   float64\n",
      " 6   arousal_std   1744 non-null   float64\n",
      " 7   lyrics        241 non-null    object \n",
      "dtypes: float64(4), int64(1), object(3)\n",
      "memory usage: 112.8+ KB\n"
     ]
    },
    {
     "data": {
      "text/html": [
       "<div>\n",
       "<style scoped>\n",
       "    .dataframe tbody tr th:only-of-type {\n",
       "        vertical-align: middle;\n",
       "    }\n",
       "\n",
       "    .dataframe tbody tr th {\n",
       "        vertical-align: top;\n",
       "    }\n",
       "\n",
       "    .dataframe thead th {\n",
       "        text-align: right;\n",
       "    }\n",
       "</style>\n",
       "<table border=\"1\" class=\"dataframe\">\n",
       "  <thead>\n",
       "    <tr style=\"text-align: right;\">\n",
       "      <th></th>\n",
       "      <th>song_id</th>\n",
       "      <th>track_name</th>\n",
       "      <th>artist_name</th>\n",
       "      <th>valence_mean</th>\n",
       "      <th>arousal_mean</th>\n",
       "      <th>valence_std</th>\n",
       "      <th>arousal_std</th>\n",
       "      <th>lyrics</th>\n",
       "    </tr>\n",
       "  </thead>\n",
       "  <tbody>\n",
       "    <tr>\n",
       "      <th>0</th>\n",
       "      <td>2</td>\n",
       "      <td>Tonight  A Lonely Century</td>\n",
       "      <td>The New Mystikal Troubadours</td>\n",
       "      <td>3.1</td>\n",
       "      <td>3.0</td>\n",
       "      <td>0.94</td>\n",
       "      <td>0.63</td>\n",
       "      <td>None</td>\n",
       "    </tr>\n",
       "    <tr>\n",
       "      <th>1</th>\n",
       "      <td>3</td>\n",
       "      <td>DD Groove</td>\n",
       "      <td>Kevin MacLeod</td>\n",
       "      <td>3.5</td>\n",
       "      <td>3.3</td>\n",
       "      <td>1.75</td>\n",
       "      <td>1.62</td>\n",
       "      <td>None</td>\n",
       "    </tr>\n",
       "    <tr>\n",
       "      <th>2</th>\n",
       "      <td>4</td>\n",
       "      <td>Slow Burn</td>\n",
       "      <td>Kevin MacLeod</td>\n",
       "      <td>5.7</td>\n",
       "      <td>5.5</td>\n",
       "      <td>1.42</td>\n",
       "      <td>1.63</td>\n",
       "      <td>None</td>\n",
       "    </tr>\n",
       "    <tr>\n",
       "      <th>3</th>\n",
       "      <td>5</td>\n",
       "      <td>Nothing Much</td>\n",
       "      <td>My Bubba &amp; Mi</td>\n",
       "      <td>4.4</td>\n",
       "      <td>5.3</td>\n",
       "      <td>2.01</td>\n",
       "      <td>1.85</td>\n",
       "      <td>None</td>\n",
       "    </tr>\n",
       "    <tr>\n",
       "      <th>4</th>\n",
       "      <td>7</td>\n",
       "      <td>Hustle</td>\n",
       "      <td>Kevin MacLeod</td>\n",
       "      <td>5.8</td>\n",
       "      <td>6.4</td>\n",
       "      <td>1.47</td>\n",
       "      <td>1.69</td>\n",
       "      <td>None</td>\n",
       "    </tr>\n",
       "  </tbody>\n",
       "</table>\n",
       "</div>"
      ],
      "text/plain": [
       "   song_id                 track_name                   artist_name  \\\n",
       "0        2  Tonight  A Lonely Century  The New Mystikal Troubadours   \n",
       "1        3                  DD Groove                 Kevin MacLeod   \n",
       "2        4                  Slow Burn                 Kevin MacLeod   \n",
       "3        5               Nothing Much                 My Bubba & Mi   \n",
       "4        7                     Hustle                 Kevin MacLeod   \n",
       "\n",
       "   valence_mean  arousal_mean  valence_std  arousal_std lyrics  \n",
       "0           3.1           3.0         0.94         0.63   None  \n",
       "1           3.5           3.3         1.75         1.62   None  \n",
       "2           5.7           5.5         1.42         1.63   None  \n",
       "3           4.4           5.3         2.01         1.85   None  \n",
       "4           5.8           6.4         1.47         1.69   None  "
      ]
     },
     "metadata": {},
     "output_type": "display_data"
    }
   ],
   "source": [
    "print(\"\\nFinal DataFrame Info:\")\n",
    "final_df.info()\n",
    "display(final_df.head())"
   ]
  },
  {
   "cell_type": "markdown",
   "id": "c7ce178e-7bb2-41b9-ac67-5a866802956a",
   "metadata": {},
   "source": [
    "### Save the final lyric dataset\n",
    "#### manual changes: addition of lyrics to niche songs from bandcamp and other less known lyric sources\n",
    "#### listening to each song that has lyrics to check for matching lyrics (deleting ones that didn't match)\n",
    "#### translating non-english songs with chatGPT4o with the prompt to preserve emotional conveyance"
   ]
  },
  {
   "cell_type": "code",
   "execution_count": 7,
   "id": "809cc5a9-ce47-4dc7-9552-bc6bfba431b4",
   "metadata": {},
   "outputs": [
    {
     "name": "stdout",
     "output_type": "stream",
     "text": [
      "Updated lyrics saved to: ../data/processed/deam_core_with_lyrics.parquet and ../data/processed/deam_core_with_lyrics.csv\n"
     ]
    }
   ],
   "source": [
    "import json\n",
    "# Load data + curated cache\n",
    "final_df = pd.read_parquet(OUTPUT_FILE)\n",
    "with open(CACHE_FILE, \"r\", encoding=\"utf-8\") as f:\n",
    "    cache = json.load(f)\n",
    "\n",
    "# Build keys exactly like the lyrics_cache file: \"artist|track\" lowercased\n",
    "keys = final_df[\"artist_name\"].str.lower() + \"|\" + final_df[\"track_name\"].str.lower()\n",
    "\n",
    "# Overwrite lyrics from cache (NaN if no match)\n",
    "final_df[\"lyrics\"] = keys.map(cache)\n",
    "\n",
    "# Save Parquet\n",
    "final_df.to_parquet(OUTPUT_FILE, index=False)\n",
    "\n",
    "# Save csv with utf-8-sig for proper display in Excel:\n",
    "final_df.to_csv(OUTPUT_FILE.with_suffix(\".csv\"), index=False, encoding=\"utf-8-sig\")\n",
    "\n",
    "print(f\"Updated lyrics saved to: {OUTPUT_FILE} and {OUTPUT_FILE.with_suffix('.csv')}\")"
   ]
  },
  {
   "cell_type": "code",
   "execution_count": 8,
   "id": "9af0c926-e60f-4b68-b066-7ab9c51558d8",
   "metadata": {},
   "outputs": [
    {
     "name": "stdout",
     "output_type": "stream",
     "text": [
      "\n",
      "Final DataFrame Info:\n",
      "<class 'pandas.core.frame.DataFrame'>\n",
      "RangeIndex: 1802 entries, 0 to 1801\n",
      "Data columns (total 8 columns):\n",
      " #   Column        Non-Null Count  Dtype  \n",
      "---  ------        --------------  -----  \n",
      " 0   song_id       1802 non-null   int64  \n",
      " 1   track_name    1802 non-null   object \n",
      " 2   artist_name   1802 non-null   object \n",
      " 3   valence_mean  1744 non-null   float64\n",
      " 4   arousal_mean  1744 non-null   float64\n",
      " 5   valence_std   1744 non-null   float64\n",
      " 6   arousal_std   1744 non-null   float64\n",
      " 7   lyrics        241 non-null    object \n",
      "dtypes: float64(4), int64(1), object(3)\n",
      "memory usage: 112.8+ KB\n"
     ]
    },
    {
     "data": {
      "text/html": [
       "<div>\n",
       "<style scoped>\n",
       "    .dataframe tbody tr th:only-of-type {\n",
       "        vertical-align: middle;\n",
       "    }\n",
       "\n",
       "    .dataframe tbody tr th {\n",
       "        vertical-align: top;\n",
       "    }\n",
       "\n",
       "    .dataframe thead th {\n",
       "        text-align: right;\n",
       "    }\n",
       "</style>\n",
       "<table border=\"1\" class=\"dataframe\">\n",
       "  <thead>\n",
       "    <tr style=\"text-align: right;\">\n",
       "      <th></th>\n",
       "      <th>song_id</th>\n",
       "      <th>track_name</th>\n",
       "      <th>artist_name</th>\n",
       "      <th>valence_mean</th>\n",
       "      <th>arousal_mean</th>\n",
       "      <th>valence_std</th>\n",
       "      <th>arousal_std</th>\n",
       "      <th>lyrics</th>\n",
       "    </tr>\n",
       "  </thead>\n",
       "  <tbody>\n",
       "    <tr>\n",
       "      <th>0</th>\n",
       "      <td>2</td>\n",
       "      <td>Tonight  A Lonely Century</td>\n",
       "      <td>The New Mystikal Troubadours</td>\n",
       "      <td>3.1</td>\n",
       "      <td>3.0</td>\n",
       "      <td>0.94</td>\n",
       "      <td>0.63</td>\n",
       "      <td>None</td>\n",
       "    </tr>\n",
       "    <tr>\n",
       "      <th>1</th>\n",
       "      <td>3</td>\n",
       "      <td>DD Groove</td>\n",
       "      <td>Kevin MacLeod</td>\n",
       "      <td>3.5</td>\n",
       "      <td>3.3</td>\n",
       "      <td>1.75</td>\n",
       "      <td>1.62</td>\n",
       "      <td>None</td>\n",
       "    </tr>\n",
       "    <tr>\n",
       "      <th>2</th>\n",
       "      <td>4</td>\n",
       "      <td>Slow Burn</td>\n",
       "      <td>Kevin MacLeod</td>\n",
       "      <td>5.7</td>\n",
       "      <td>5.5</td>\n",
       "      <td>1.42</td>\n",
       "      <td>1.63</td>\n",
       "      <td>None</td>\n",
       "    </tr>\n",
       "    <tr>\n",
       "      <th>3</th>\n",
       "      <td>5</td>\n",
       "      <td>Nothing Much</td>\n",
       "      <td>My Bubba &amp; Mi</td>\n",
       "      <td>4.4</td>\n",
       "      <td>5.3</td>\n",
       "      <td>2.01</td>\n",
       "      <td>1.85</td>\n",
       "      <td>None</td>\n",
       "    </tr>\n",
       "    <tr>\n",
       "      <th>4</th>\n",
       "      <td>7</td>\n",
       "      <td>Hustle</td>\n",
       "      <td>Kevin MacLeod</td>\n",
       "      <td>5.8</td>\n",
       "      <td>6.4</td>\n",
       "      <td>1.47</td>\n",
       "      <td>1.69</td>\n",
       "      <td>None</td>\n",
       "    </tr>\n",
       "  </tbody>\n",
       "</table>\n",
       "</div>"
      ],
      "text/plain": [
       "   song_id                 track_name                   artist_name  \\\n",
       "0        2  Tonight  A Lonely Century  The New Mystikal Troubadours   \n",
       "1        3                  DD Groove                 Kevin MacLeod   \n",
       "2        4                  Slow Burn                 Kevin MacLeod   \n",
       "3        5               Nothing Much                 My Bubba & Mi   \n",
       "4        7                     Hustle                 Kevin MacLeod   \n",
       "\n",
       "   valence_mean  arousal_mean  valence_std  arousal_std lyrics  \n",
       "0           3.1           3.0         0.94         0.63   None  \n",
       "1           3.5           3.3         1.75         1.62   None  \n",
       "2           5.7           5.5         1.42         1.63   None  \n",
       "3           4.4           5.3         2.01         1.85   None  \n",
       "4           5.8           6.4         1.47         1.69   None  "
      ]
     },
     "metadata": {},
     "output_type": "display_data"
    }
   ],
   "source": [
    "print(\"\\nFinal DataFrame Info:\")\n",
    "final_df.info()\n",
    "display(final_df.head())"
   ]
  },
  {
   "cell_type": "code",
   "execution_count": null,
   "id": "e3e4ff05-f702-45e2-9d61-6d7f5a923b5c",
   "metadata": {},
   "outputs": [],
   "source": []
  }
 ],
 "metadata": {
  "kernelspec": {
   "display_name": "Python 3 (ipykernel)",
   "language": "python",
   "name": "python3"
  },
  "language_info": {
   "codemirror_mode": {
    "name": "ipython",
    "version": 3
   },
   "file_extension": ".py",
   "mimetype": "text/x-python",
   "name": "python",
   "nbconvert_exporter": "python",
   "pygments_lexer": "ipython3",
   "version": "3.11.6"
  }
 },
 "nbformat": 4,
 "nbformat_minor": 5
}
